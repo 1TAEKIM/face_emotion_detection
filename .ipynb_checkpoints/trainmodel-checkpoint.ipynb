{
 "cells": [
  {
   "cell_type": "code",
   "execution_count": 27,
   "id": "7b7871da",
   "metadata": {},
   "outputs": [],
   "source": [
    "from keras.utils import to_categorical\n",
    "from keras_preprocessing.image import load_img\n",
    "from keras.models import Sequential\n",
    "from keras.layers import Dense, Conv2D, Dropout, Flatten, MaxPooling2D\n",
    "import os\n",
    "import pandas as pd\n",
    "import numpy as np\n"
   ]
  },
  {
   "cell_type": "code",
   "execution_count": 28,
   "id": "83c5bd7d",
   "metadata": {
    "scrolled": true
   },
   "outputs": [],
   "source": [
    "TRAIN_DIR = 'images/train'\n",
    "TEST_DIR = 'images/test'"
   ]
  },
  {
   "cell_type": "code",
   "execution_count": 31,
   "id": "d7726894",
   "metadata": {},
   "outputs": [],
   "source": [
    "def createdataframe(dir):\n",
    "    image_paths = []\n",
    "    labels = []\n",
    "    for label in os.listdir(dir):\n",
    "        for imagename in os.listdir(os.path.join(dir,label)):\n",
    "            image_paths.append(os.path.join(dir,label,imagename))\n",
    "            labels.append(label)\n",
    "        print(label, \"completed\")\n",
    "    return image_paths,labels"
   ]
  },
  {
   "cell_type": "code",
   "execution_count": 32,
   "id": "78880c4b",
   "metadata": {},
   "outputs": [
    {
     "name": "stdout",
     "output_type": "stream",
     "text": [
      "angry completed\n",
      "disgust completed\n",
      "fear completed\n",
      "happy completed\n",
      "neutral completed\n",
      "sad completed\n",
      "surprise completed\n"
     ]
    }
   ],
   "source": [
    "train = pd.DataFrame()\n",
    "train['image'], train['label'] = createdataframe(TRAIN_DIR)"
   ]
  },
  {
   "cell_type": "code",
   "execution_count": 33,
   "id": "0129c9e7",
   "metadata": {},
   "outputs": [
    {
     "name": "stdout",
     "output_type": "stream",
     "text": [
      "                                image     label\n",
      "0            images/train\\angry\\0.jpg     angry\n",
      "1            images/train\\angry\\1.jpg     angry\n",
      "2           images/train\\angry\\10.jpg     angry\n",
      "3        images/train\\angry\\10002.jpg     angry\n",
      "4        images/train\\angry\\10016.jpg     angry\n",
      "...                               ...       ...\n",
      "28816  images/train\\surprise\\9969.jpg  surprise\n",
      "28817  images/train\\surprise\\9985.jpg  surprise\n",
      "28818  images/train\\surprise\\9990.jpg  surprise\n",
      "28819  images/train\\surprise\\9992.jpg  surprise\n",
      "28820  images/train\\surprise\\9996.jpg  surprise\n",
      "\n",
      "[28821 rows x 2 columns]\n"
     ]
    }
   ],
   "source": [
    "print(train)"
   ]
  },
  {
   "cell_type": "code",
   "execution_count": 34,
   "id": "c16cabd8",
   "metadata": {},
   "outputs": [
    {
     "name": "stdout",
     "output_type": "stream",
     "text": [
      "angry completed\n",
      "disgust completed\n",
      "fear completed\n",
      "happy completed\n",
      "neutral completed\n",
      "sad completed\n",
      "surprise completed\n"
     ]
    }
   ],
   "source": [
    "test = pd.DataFrame()\n",
    "test['image'], test['label'] = createdataframe(TEST_DIR)"
   ]
  },
  {
   "cell_type": "code",
   "execution_count": 37,
   "id": "a11c9fa4",
   "metadata": {},
   "outputs": [
    {
     "name": "stdout",
     "output_type": "stream",
     "text": [
      "                              image     label\n",
      "0       images/test\\angry\\10052.jpg     angry\n",
      "1       images/test\\angry\\10065.jpg     angry\n",
      "2       images/test\\angry\\10079.jpg     angry\n",
      "3       images/test\\angry\\10095.jpg     angry\n",
      "4       images/test\\angry\\10121.jpg     angry\n",
      "...                             ...       ...\n",
      "7061  images/test\\surprise\\9806.jpg  surprise\n",
      "7062  images/test\\surprise\\9830.jpg  surprise\n",
      "7063  images/test\\surprise\\9853.jpg  surprise\n",
      "7064  images/test\\surprise\\9878.jpg  surprise\n",
      "7065   images/test\\surprise\\993.jpg  surprise\n",
      "\n",
      "[7066 rows x 2 columns]\n",
      "0         images/test\\angry\\10052.jpg\n",
      "1         images/test\\angry\\10065.jpg\n",
      "2         images/test\\angry\\10079.jpg\n",
      "3         images/test\\angry\\10095.jpg\n",
      "4         images/test\\angry\\10121.jpg\n",
      "                    ...              \n",
      "7061    images/test\\surprise\\9806.jpg\n",
      "7062    images/test\\surprise\\9830.jpg\n",
      "7063    images/test\\surprise\\9853.jpg\n",
      "7064    images/test\\surprise\\9878.jpg\n",
      "7065     images/test\\surprise\\993.jpg\n",
      "Name: image, Length: 7066, dtype: object\n"
     ]
    }
   ],
   "source": [
    "print(test)\n",
    "print(test['image'])"
   ]
  },
  {
   "cell_type": "code",
   "execution_count": 40,
   "id": "9cdf3981",
   "metadata": {},
   "outputs": [],
   "source": [
    "from tqdm.notebook import tqdm"
   ]
  },
  {
   "cell_type": "code",
   "execution_count": 43,
   "id": "e1509cba",
   "metadata": {},
   "outputs": [],
   "source": [
    "def extract_features(images):\n",
    "    features = []\n",
    "    for image in tqdm(images):\n",
    "        img = load_img(image,grayscale = True)\n",
    "        img = np.array(img)\n",
    "        features.append(img)\n",
    "    features = np.array(features)\n",
    "    features = features.reshape(len(features),48,48,1)\n",
    "    return features"
   ]
  },
  {
   "cell_type": "code",
   "execution_count": 44,
   "id": "efe924c3",
   "metadata": {},
   "outputs": [
    {
     "data": {
      "application/vnd.jupyter.widget-view+json": {
       "model_id": "04f2b0ede1a445bc8eb0c1175095c966",
       "version_major": 2,
       "version_minor": 0
      },
      "text/plain": [
       "  0%|          | 0/28821 [00:00<?, ?it/s]"
      ]
     },
     "metadata": {},
     "output_type": "display_data"
    }
   ],
   "source": [
    "train_features = extract_features(train['image'])"
   ]
  },
  {
   "cell_type": "code",
   "execution_count": 45,
   "id": "b9cf5c8d",
   "metadata": {},
   "outputs": [
    {
     "data": {
      "application/vnd.jupyter.widget-view+json": {
       "model_id": "d2f1abaa393a4aab874731db597c41f2",
       "version_major": 2,
       "version_minor": 0
      },
      "text/plain": [
       "  0%|          | 0/7066 [00:00<?, ?it/s]"
      ]
     },
     "metadata": {},
     "output_type": "display_data"
    }
   ],
   "source": [
    "test_features = extract_features(test['image'])"
   ]
  },
  {
   "cell_type": "code",
   "execution_count": 46,
   "id": "ac708c3a",
   "metadata": {},
   "outputs": [],
   "source": [
    "x_train = train_features/255.0\n",
    "x_test = test_features/255.0"
   ]
  },
  {
   "cell_type": "code",
   "execution_count": 47,
   "id": "294cc11a",
   "metadata": {},
   "outputs": [],
   "source": [
    " from sklearn.preprocessing import LabelEncoder"
   ]
  },
  {
   "cell_type": "code",
   "execution_count": 48,
   "id": "4c7dc8f5",
   "metadata": {},
   "outputs": [
    {
     "data": {
      "text/html": [
       "<style>#sk-container-id-1 {color: black;}#sk-container-id-1 pre{padding: 0;}#sk-container-id-1 div.sk-toggleable {background-color: white;}#sk-container-id-1 label.sk-toggleable__label {cursor: pointer;display: block;width: 100%;margin-bottom: 0;padding: 0.3em;box-sizing: border-box;text-align: center;}#sk-container-id-1 label.sk-toggleable__label-arrow:before {content: \"▸\";float: left;margin-right: 0.25em;color: #696969;}#sk-container-id-1 label.sk-toggleable__label-arrow:hover:before {color: black;}#sk-container-id-1 div.sk-estimator:hover label.sk-toggleable__label-arrow:before {color: black;}#sk-container-id-1 div.sk-toggleable__content {max-height: 0;max-width: 0;overflow: hidden;text-align: left;background-color: #f0f8ff;}#sk-container-id-1 div.sk-toggleable__content pre {margin: 0.2em;color: black;border-radius: 0.25em;background-color: #f0f8ff;}#sk-container-id-1 input.sk-toggleable__control:checked~div.sk-toggleable__content {max-height: 200px;max-width: 100%;overflow: auto;}#sk-container-id-1 input.sk-toggleable__control:checked~label.sk-toggleable__label-arrow:before {content: \"▾\";}#sk-container-id-1 div.sk-estimator input.sk-toggleable__control:checked~label.sk-toggleable__label {background-color: #d4ebff;}#sk-container-id-1 div.sk-label input.sk-toggleable__control:checked~label.sk-toggleable__label {background-color: #d4ebff;}#sk-container-id-1 input.sk-hidden--visually {border: 0;clip: rect(1px 1px 1px 1px);clip: rect(1px, 1px, 1px, 1px);height: 1px;margin: -1px;overflow: hidden;padding: 0;position: absolute;width: 1px;}#sk-container-id-1 div.sk-estimator {font-family: monospace;background-color: #f0f8ff;border: 1px dotted black;border-radius: 0.25em;box-sizing: border-box;margin-bottom: 0.5em;}#sk-container-id-1 div.sk-estimator:hover {background-color: #d4ebff;}#sk-container-id-1 div.sk-parallel-item::after {content: \"\";width: 100%;border-bottom: 1px solid gray;flex-grow: 1;}#sk-container-id-1 div.sk-label:hover label.sk-toggleable__label {background-color: #d4ebff;}#sk-container-id-1 div.sk-serial::before {content: \"\";position: absolute;border-left: 1px solid gray;box-sizing: border-box;top: 0;bottom: 0;left: 50%;z-index: 0;}#sk-container-id-1 div.sk-serial {display: flex;flex-direction: column;align-items: center;background-color: white;padding-right: 0.2em;padding-left: 0.2em;position: relative;}#sk-container-id-1 div.sk-item {position: relative;z-index: 1;}#sk-container-id-1 div.sk-parallel {display: flex;align-items: stretch;justify-content: center;background-color: white;position: relative;}#sk-container-id-1 div.sk-item::before, #sk-container-id-1 div.sk-parallel-item::before {content: \"\";position: absolute;border-left: 1px solid gray;box-sizing: border-box;top: 0;bottom: 0;left: 50%;z-index: -1;}#sk-container-id-1 div.sk-parallel-item {display: flex;flex-direction: column;z-index: 1;position: relative;background-color: white;}#sk-container-id-1 div.sk-parallel-item:first-child::after {align-self: flex-end;width: 50%;}#sk-container-id-1 div.sk-parallel-item:last-child::after {align-self: flex-start;width: 50%;}#sk-container-id-1 div.sk-parallel-item:only-child::after {width: 0;}#sk-container-id-1 div.sk-dashed-wrapped {border: 1px dashed gray;margin: 0 0.4em 0.5em 0.4em;box-sizing: border-box;padding-bottom: 0.4em;background-color: white;}#sk-container-id-1 div.sk-label label {font-family: monospace;font-weight: bold;display: inline-block;line-height: 1.2em;}#sk-container-id-1 div.sk-label-container {text-align: center;}#sk-container-id-1 div.sk-container {/* jupyter's `normalize.less` sets `[hidden] { display: none; }` but bootstrap.min.css set `[hidden] { display: none !important; }` so we also need the `!important` here to be able to override the default hidden behavior on the sphinx rendered scikit-learn.org. See: https://github.com/scikit-learn/scikit-learn/issues/21755 */display: inline-block !important;position: relative;}#sk-container-id-1 div.sk-text-repr-fallback {display: none;}</style><div id=\"sk-container-id-1\" class=\"sk-top-container\"><div class=\"sk-text-repr-fallback\"><pre>LabelEncoder()</pre><b>In a Jupyter environment, please rerun this cell to show the HTML representation or trust the notebook. <br />On GitHub, the HTML representation is unable to render, please try loading this page with nbviewer.org.</b></div><div class=\"sk-container\" hidden><div class=\"sk-item\"><div class=\"sk-estimator sk-toggleable\"><input class=\"sk-toggleable__control sk-hidden--visually\" id=\"sk-estimator-id-1\" type=\"checkbox\" checked><label for=\"sk-estimator-id-1\" class=\"sk-toggleable__label sk-toggleable__label-arrow\">LabelEncoder</label><div class=\"sk-toggleable__content\"><pre>LabelEncoder()</pre></div></div></div></div></div>"
      ],
      "text/plain": [
       "LabelEncoder()"
      ]
     },
     "execution_count": 48,
     "metadata": {},
     "output_type": "execute_result"
    }
   ],
   "source": [
    "le = LabelEncoder()\n",
    "le.fit(train['label'])"
   ]
  },
  {
   "cell_type": "code",
   "execution_count": 49,
   "id": "ebaa1973",
   "metadata": {},
   "outputs": [],
   "source": [
    "y_train = le.transform(train['label'])\n",
    "y_test = le.transform(test['label'])"
   ]
  },
  {
   "cell_type": "code",
   "execution_count": 50,
   "id": "cc727277",
   "metadata": {},
   "outputs": [],
   "source": [
    "y_train = to_categorical(y_train,num_classes = 7)\n",
    "y_test = to_categorical(y_test,num_classes = 7)"
   ]
  },
  {
   "cell_type": "code",
   "execution_count": 55,
   "id": "2a633572",
   "metadata": {},
   "outputs": [],
   "source": [
    "model = Sequential()\n",
    "# convolutional layers\n",
    "model.add(Conv2D(128, kernel_size=(3,3), activation='relu', input_shape=(48,48,1)))\n",
    "model.add(MaxPooling2D(pool_size=(2,2)))\n",
    "model.add(Dropout(0.4))\n",
    "\n",
    "model.add(Conv2D(256, kernel_size=(3,3), activation='relu'))\n",
    "model.add(MaxPooling2D(pool_size=(2,2)))\n",
    "model.add(Dropout(0.4))\n",
    "\n",
    "model.add(Conv2D(512, kernel_size=(3,3), activation='relu'))\n",
    "model.add(MaxPooling2D(pool_size=(2,2)))\n",
    "model.add(Dropout(0.4))\n",
    "\n",
    "model.add(Conv2D(512, kernel_size=(3,3), activation='relu'))\n",
    "model.add(MaxPooling2D(pool_size=(2,2)))\n",
    "model.add(Dropout(0.4))\n",
    "\n",
    "model.add(Flatten())\n",
    "#fully connected layers\n",
    "model.add(Dense(512, activation='relu'))\n",
    "model.add(Dropout(0.4))\n",
    "model.add(Dense(256, activation='relu'))\n",
    "model.add(Dropout(0.3))\n",
    "# output layer\n",
    "model.add(Dense(7, activation='softmax'))\n"
   ]
  },
  {
   "cell_type": "code",
   "execution_count": 56,
   "id": "7d8a3b5c",
   "metadata": {},
   "outputs": [
    {
     "name": "stdout",
     "output_type": "stream",
     "text": [
      "WARNING:tensorflow:From C:\\anaconda3\\Lib\\site-packages\\keras\\src\\optimizers\\__init__.py:309: The name tf.train.Optimizer is deprecated. Please use tf.compat.v1.train.Optimizer instead.\n",
      "\n"
     ]
    }
   ],
   "source": [
    "model.compile(optimizer = 'adam', loss = 'categorical_crossentropy', metrics = 'accuracy')"
   ]
  },
  {
   "cell_type": "code",
   "execution_count": 57,
   "id": "44fb6705",
   "metadata": {},
   "outputs": [
    {
     "name": "stdout",
     "output_type": "stream",
     "text": [
      "Epoch 1/100\n",
      "WARNING:tensorflow:From C:\\anaconda3\\Lib\\site-packages\\keras\\src\\utils\\tf_utils.py:492: The name tf.ragged.RaggedTensorValue is deprecated. Please use tf.compat.v1.ragged.RaggedTensorValue instead.\n",
      "\n",
      "WARNING:tensorflow:From C:\\anaconda3\\Lib\\site-packages\\keras\\src\\engine\\base_layer_utils.py:384: The name tf.executing_eagerly_outside_functions is deprecated. Please use tf.compat.v1.executing_eagerly_outside_functions instead.\n",
      "\n",
      "226/226 [==============================] - 531s 2s/step - loss: 1.8261 - accuracy: 0.2428 - val_loss: 1.8121 - val_accuracy: 0.2583\n",
      "Epoch 2/100\n",
      "226/226 [==============================] - 534s 2s/step - loss: 1.8039 - accuracy: 0.2498 - val_loss: 1.7764 - val_accuracy: 0.2614\n",
      "Epoch 3/100\n",
      "226/226 [==============================] - 513s 2s/step - loss: 1.7456 - accuracy: 0.2807 - val_loss: 1.6758 - val_accuracy: 0.3282\n",
      "Epoch 4/100\n",
      "226/226 [==============================] - 584s 3s/step - loss: 1.6601 - accuracy: 0.3361 - val_loss: 1.5778 - val_accuracy: 0.3800\n",
      "Epoch 5/100\n",
      "226/226 [==============================] - 587s 3s/step - loss: 1.5725 - accuracy: 0.3838 - val_loss: 1.4699 - val_accuracy: 0.4332\n",
      "Epoch 6/100\n",
      "226/226 [==============================] - 601s 3s/step - loss: 1.4984 - accuracy: 0.4181 - val_loss: 1.3728 - val_accuracy: 0.4690\n",
      "Epoch 7/100\n",
      "226/226 [==============================] - 584s 3s/step - loss: 1.4476 - accuracy: 0.4405 - val_loss: 1.3396 - val_accuracy: 0.4819\n",
      "Epoch 8/100\n",
      "226/226 [==============================] - 598s 3s/step - loss: 1.4174 - accuracy: 0.4537 - val_loss: 1.2997 - val_accuracy: 0.4976\n",
      "Epoch 9/100\n",
      "226/226 [==============================] - 620s 3s/step - loss: 1.3811 - accuracy: 0.4722 - val_loss: 1.2626 - val_accuracy: 0.5154\n",
      "Epoch 10/100\n",
      "226/226 [==============================] - 581s 3s/step - loss: 1.3560 - accuracy: 0.4775 - val_loss: 1.2509 - val_accuracy: 0.5212\n",
      "Epoch 11/100\n",
      "226/226 [==============================] - 554s 2s/step - loss: 1.3393 - accuracy: 0.4879 - val_loss: 1.2341 - val_accuracy: 0.5294\n",
      "Epoch 12/100\n",
      "226/226 [==============================] - 555s 2s/step - loss: 1.3092 - accuracy: 0.4953 - val_loss: 1.2010 - val_accuracy: 0.5436\n",
      "Epoch 13/100\n",
      "226/226 [==============================] - 552s 2s/step - loss: 1.2968 - accuracy: 0.5062 - val_loss: 1.2044 - val_accuracy: 0.5464\n",
      "Epoch 14/100\n",
      "226/226 [==============================] - 556s 2s/step - loss: 1.2850 - accuracy: 0.5106 - val_loss: 1.1760 - val_accuracy: 0.5498\n",
      "Epoch 15/100\n",
      "226/226 [==============================] - 2512s 11s/step - loss: 1.2671 - accuracy: 0.5153 - val_loss: 1.1668 - val_accuracy: 0.5569\n",
      "Epoch 16/100\n",
      "226/226 [==============================] - 459s 2s/step - loss: 1.2462 - accuracy: 0.5238 - val_loss: 1.1626 - val_accuracy: 0.5576\n",
      "Epoch 17/100\n",
      "226/226 [==============================] - 460s 2s/step - loss: 1.2356 - accuracy: 0.5309 - val_loss: 1.1495 - val_accuracy: 0.5659\n",
      "Epoch 18/100\n",
      "226/226 [==============================] - 463s 2s/step - loss: 1.2269 - accuracy: 0.5328 - val_loss: 1.1559 - val_accuracy: 0.5661\n",
      "Epoch 19/100\n",
      "226/226 [==============================] - 466s 2s/step - loss: 1.2128 - accuracy: 0.5397 - val_loss: 1.1510 - val_accuracy: 0.5719\n",
      "Epoch 20/100\n",
      "226/226 [==============================] - 462s 2s/step - loss: 1.2048 - accuracy: 0.5445 - val_loss: 1.1284 - val_accuracy: 0.5730\n",
      "Epoch 21/100\n",
      "226/226 [==============================] - 462s 2s/step - loss: 1.1989 - accuracy: 0.5463 - val_loss: 1.1301 - val_accuracy: 0.5753\n",
      "Epoch 22/100\n",
      "226/226 [==============================] - 464s 2s/step - loss: 1.1826 - accuracy: 0.5540 - val_loss: 1.1148 - val_accuracy: 0.5780\n",
      "Epoch 23/100\n",
      "226/226 [==============================] - 463s 2s/step - loss: 1.1758 - accuracy: 0.5537 - val_loss: 1.1182 - val_accuracy: 0.5845\n",
      "Epoch 24/100\n",
      "226/226 [==============================] - 463s 2s/step - loss: 1.1638 - accuracy: 0.5588 - val_loss: 1.1054 - val_accuracy: 0.5851\n",
      "Epoch 25/100\n",
      "226/226 [==============================] - 464s 2s/step - loss: 1.1605 - accuracy: 0.5608 - val_loss: 1.1057 - val_accuracy: 0.5887\n",
      "Epoch 26/100\n",
      "226/226 [==============================] - 473s 2s/step - loss: 1.1512 - accuracy: 0.5646 - val_loss: 1.1050 - val_accuracy: 0.5835\n",
      "Epoch 27/100\n",
      "226/226 [==============================] - 462s 2s/step - loss: 1.1422 - accuracy: 0.5670 - val_loss: 1.0957 - val_accuracy: 0.5866\n",
      "Epoch 28/100\n",
      "226/226 [==============================] - 463s 2s/step - loss: 1.1326 - accuracy: 0.5699 - val_loss: 1.0982 - val_accuracy: 0.5934\n",
      "Epoch 29/100\n",
      "226/226 [==============================] - 467s 2s/step - loss: 1.1254 - accuracy: 0.5737 - val_loss: 1.1018 - val_accuracy: 0.5859\n",
      "Epoch 30/100\n",
      "226/226 [==============================] - 469s 2s/step - loss: 1.1200 - accuracy: 0.5749 - val_loss: 1.0847 - val_accuracy: 0.5897\n",
      "Epoch 31/100\n",
      "226/226 [==============================] - 463s 2s/step - loss: 1.1130 - accuracy: 0.5805 - val_loss: 1.0805 - val_accuracy: 0.5989\n",
      "Epoch 32/100\n",
      "226/226 [==============================] - 465s 2s/step - loss: 1.0972 - accuracy: 0.5851 - val_loss: 1.0874 - val_accuracy: 0.5954\n",
      "Epoch 33/100\n",
      "226/226 [==============================] - 464s 2s/step - loss: 1.0961 - accuracy: 0.5858 - val_loss: 1.0783 - val_accuracy: 0.5971\n",
      "Epoch 34/100\n",
      "226/226 [==============================] - 463s 2s/step - loss: 1.0937 - accuracy: 0.5895 - val_loss: 1.0785 - val_accuracy: 0.5999\n",
      "Epoch 35/100\n",
      "226/226 [==============================] - 465s 2s/step - loss: 1.0818 - accuracy: 0.5892 - val_loss: 1.0682 - val_accuracy: 0.5962\n",
      "Epoch 36/100\n",
      "226/226 [==============================] - 462s 2s/step - loss: 1.0770 - accuracy: 0.5927 - val_loss: 1.0752 - val_accuracy: 0.5928\n",
      "Epoch 37/100\n",
      "226/226 [==============================] - 465s 2s/step - loss: 1.0771 - accuracy: 0.5948 - val_loss: 1.0650 - val_accuracy: 0.6018\n",
      "Epoch 38/100\n",
      "226/226 [==============================] - 464s 2s/step - loss: 1.0669 - accuracy: 0.5996 - val_loss: 1.0626 - val_accuracy: 0.5999\n",
      "Epoch 39/100\n",
      "226/226 [==============================] - 463s 2s/step - loss: 1.0630 - accuracy: 0.5981 - val_loss: 1.0557 - val_accuracy: 0.6037\n",
      "Epoch 40/100\n",
      "226/226 [==============================] - 462s 2s/step - loss: 1.0584 - accuracy: 0.6013 - val_loss: 1.0584 - val_accuracy: 0.6097\n",
      "Epoch 41/100\n",
      "226/226 [==============================] - 464s 2s/step - loss: 1.0468 - accuracy: 0.6069 - val_loss: 1.0472 - val_accuracy: 0.6110\n",
      "Epoch 42/100\n",
      "226/226 [==============================] - 464s 2s/step - loss: 1.0438 - accuracy: 0.6076 - val_loss: 1.0561 - val_accuracy: 0.6057\n",
      "Epoch 43/100\n",
      "226/226 [==============================] - 463s 2s/step - loss: 1.0439 - accuracy: 0.6086 - val_loss: 1.0746 - val_accuracy: 0.6043\n",
      "Epoch 44/100\n",
      "226/226 [==============================] - 462s 2s/step - loss: 1.0284 - accuracy: 0.6127 - val_loss: 1.0410 - val_accuracy: 0.6114\n",
      "Epoch 45/100\n",
      "226/226 [==============================] - 463s 2s/step - loss: 1.0274 - accuracy: 0.6149 - val_loss: 1.0461 - val_accuracy: 0.6132\n",
      "Epoch 46/100\n",
      "226/226 [==============================] - 464s 2s/step - loss: 1.0192 - accuracy: 0.6147 - val_loss: 1.0521 - val_accuracy: 0.6132\n",
      "Epoch 47/100\n",
      "226/226 [==============================] - 464s 2s/step - loss: 1.0180 - accuracy: 0.6165 - val_loss: 1.0501 - val_accuracy: 0.6128\n",
      "Epoch 48/100\n",
      "226/226 [==============================] - 468s 2s/step - loss: 1.0085 - accuracy: 0.6254 - val_loss: 1.0496 - val_accuracy: 0.6112\n",
      "Epoch 49/100\n",
      "226/226 [==============================] - 475s 2s/step - loss: 1.0123 - accuracy: 0.6204 - val_loss: 1.0415 - val_accuracy: 0.6105\n",
      "Epoch 50/100\n",
      "226/226 [==============================] - 465s 2s/step - loss: 0.9924 - accuracy: 0.6291 - val_loss: 1.0415 - val_accuracy: 0.6136\n",
      "Epoch 51/100\n",
      "226/226 [==============================] - 465s 2s/step - loss: 0.9953 - accuracy: 0.6269 - val_loss: 1.0432 - val_accuracy: 0.6149\n",
      "Epoch 52/100\n",
      "226/226 [==============================] - 466s 2s/step - loss: 0.9927 - accuracy: 0.6276 - val_loss: 1.0419 - val_accuracy: 0.6104\n",
      "Epoch 53/100\n",
      "226/226 [==============================] - 467s 2s/step - loss: 0.9800 - accuracy: 0.6325 - val_loss: 1.0377 - val_accuracy: 0.6177\n",
      "Epoch 54/100\n",
      "226/226 [==============================] - 464s 2s/step - loss: 0.9857 - accuracy: 0.6288 - val_loss: 1.0262 - val_accuracy: 0.6200\n",
      "Epoch 55/100\n",
      "226/226 [==============================] - 470s 2s/step - loss: 0.9776 - accuracy: 0.6324 - val_loss: 1.0315 - val_accuracy: 0.6182\n",
      "Epoch 56/100\n",
      "226/226 [==============================] - 472s 2s/step - loss: 0.9748 - accuracy: 0.6376 - val_loss: 1.0303 - val_accuracy: 0.6153\n",
      "Epoch 57/100\n",
      "226/226 [==============================] - 470s 2s/step - loss: 0.9606 - accuracy: 0.6402 - val_loss: 1.0305 - val_accuracy: 0.6203\n",
      "Epoch 58/100\n",
      "226/226 [==============================] - 469s 2s/step - loss: 0.9635 - accuracy: 0.6423 - val_loss: 1.0314 - val_accuracy: 0.6146\n",
      "Epoch 59/100\n",
      "226/226 [==============================] - 469s 2s/step - loss: 0.9654 - accuracy: 0.6402 - val_loss: 1.0349 - val_accuracy: 0.6155\n",
      "Epoch 60/100\n",
      "226/226 [==============================] - 469s 2s/step - loss: 0.9517 - accuracy: 0.6452 - val_loss: 1.0376 - val_accuracy: 0.6172\n",
      "Epoch 61/100\n",
      "226/226 [==============================] - 475s 2s/step - loss: 0.9448 - accuracy: 0.6472 - val_loss: 1.0236 - val_accuracy: 0.6206\n",
      "Epoch 62/100\n",
      "226/226 [==============================] - 473s 2s/step - loss: 0.9374 - accuracy: 0.6529 - val_loss: 1.0387 - val_accuracy: 0.6185\n",
      "Epoch 63/100\n",
      "226/226 [==============================] - 471s 2s/step - loss: 0.9307 - accuracy: 0.6529 - val_loss: 1.0287 - val_accuracy: 0.6185\n",
      "Epoch 64/100\n",
      "226/226 [==============================] - 474s 2s/step - loss: 0.9347 - accuracy: 0.6535 - val_loss: 1.0295 - val_accuracy: 0.6173\n",
      "Epoch 65/100\n",
      "226/226 [==============================] - 473s 2s/step - loss: 0.9356 - accuracy: 0.6497 - val_loss: 1.0256 - val_accuracy: 0.6233\n",
      "Epoch 66/100\n",
      "226/226 [==============================] - 467s 2s/step - loss: 0.9241 - accuracy: 0.6563 - val_loss: 1.0298 - val_accuracy: 0.6204\n",
      "Epoch 67/100\n",
      "226/226 [==============================] - 464s 2s/step - loss: 0.9162 - accuracy: 0.6613 - val_loss: 1.0371 - val_accuracy: 0.6186\n",
      "Epoch 68/100\n",
      "226/226 [==============================] - 466s 2s/step - loss: 0.9146 - accuracy: 0.6605 - val_loss: 1.0303 - val_accuracy: 0.6221\n",
      "Epoch 69/100\n",
      "226/226 [==============================] - 465s 2s/step - loss: 0.9119 - accuracy: 0.6624 - val_loss: 1.0245 - val_accuracy: 0.6237\n",
      "Epoch 70/100\n",
      "226/226 [==============================] - 464s 2s/step - loss: 0.9085 - accuracy: 0.6651 - val_loss: 1.0398 - val_accuracy: 0.6193\n",
      "Epoch 71/100\n",
      "226/226 [==============================] - 463s 2s/step - loss: 0.8997 - accuracy: 0.6681 - val_loss: 1.0380 - val_accuracy: 0.6210\n",
      "Epoch 72/100\n",
      "226/226 [==============================] - 478s 2s/step - loss: 0.8962 - accuracy: 0.6669 - val_loss: 1.0259 - val_accuracy: 0.6224\n",
      "Epoch 73/100\n",
      "226/226 [==============================] - 465s 2s/step - loss: 0.8900 - accuracy: 0.6688 - val_loss: 1.0344 - val_accuracy: 0.6182\n",
      "Epoch 74/100\n",
      "226/226 [==============================] - 465s 2s/step - loss: 0.8844 - accuracy: 0.6719 - val_loss: 1.0270 - val_accuracy: 0.6243\n",
      "Epoch 75/100\n",
      "226/226 [==============================] - 465s 2s/step - loss: 0.8820 - accuracy: 0.6751 - val_loss: 1.0264 - val_accuracy: 0.6185\n",
      "Epoch 76/100\n",
      "226/226 [==============================] - 469s 2s/step - loss: 0.8857 - accuracy: 0.6759 - val_loss: 1.0453 - val_accuracy: 0.6169\n",
      "Epoch 77/100\n",
      "226/226 [==============================] - 466s 2s/step - loss: 0.8784 - accuracy: 0.6747 - val_loss: 1.0276 - val_accuracy: 0.6251\n",
      "Epoch 78/100\n",
      "226/226 [==============================] - 464s 2s/step - loss: 0.8743 - accuracy: 0.6772 - val_loss: 1.0302 - val_accuracy: 0.6237\n",
      "Epoch 79/100\n",
      "226/226 [==============================] - 470s 2s/step - loss: 0.8781 - accuracy: 0.6753 - val_loss: 1.0203 - val_accuracy: 0.6279\n",
      "Epoch 80/100\n",
      "226/226 [==============================] - 465s 2s/step - loss: 0.8606 - accuracy: 0.6842 - val_loss: 1.0235 - val_accuracy: 0.6254\n",
      "Epoch 81/100\n",
      "226/226 [==============================] - 464s 2s/step - loss: 0.8611 - accuracy: 0.6813 - val_loss: 1.0316 - val_accuracy: 0.6262\n",
      "Epoch 82/100\n",
      "226/226 [==============================] - 462s 2s/step - loss: 0.8621 - accuracy: 0.6830 - val_loss: 1.0300 - val_accuracy: 0.6278\n",
      "Epoch 83/100\n",
      "226/226 [==============================] - 463s 2s/step - loss: 0.8603 - accuracy: 0.6889 - val_loss: 1.0272 - val_accuracy: 0.6279\n",
      "Epoch 84/100\n",
      "226/226 [==============================] - 465s 2s/step - loss: 0.8429 - accuracy: 0.6899 - val_loss: 1.0280 - val_accuracy: 0.6289\n",
      "Epoch 85/100\n",
      "226/226 [==============================] - 464s 2s/step - loss: 0.8478 - accuracy: 0.6868 - val_loss: 1.0483 - val_accuracy: 0.6169\n",
      "Epoch 86/100\n",
      "226/226 [==============================] - 462s 2s/step - loss: 0.8448 - accuracy: 0.6888 - val_loss: 1.0322 - val_accuracy: 0.6219\n",
      "Epoch 87/100\n",
      "226/226 [==============================] - 464s 2s/step - loss: 0.8344 - accuracy: 0.6976 - val_loss: 1.0417 - val_accuracy: 0.6180\n",
      "Epoch 88/100\n",
      "226/226 [==============================] - 463s 2s/step - loss: 0.8320 - accuracy: 0.6921 - val_loss: 1.0261 - val_accuracy: 0.6207\n",
      "Epoch 89/100\n",
      "226/226 [==============================] - 467s 2s/step - loss: 0.8319 - accuracy: 0.6944 - val_loss: 1.0356 - val_accuracy: 0.6186\n",
      "Epoch 90/100\n",
      "226/226 [==============================] - 464s 2s/step - loss: 0.8262 - accuracy: 0.6947 - val_loss: 1.0203 - val_accuracy: 0.6267\n",
      "Epoch 91/100\n",
      "226/226 [==============================] - 463s 2s/step - loss: 0.8273 - accuracy: 0.6961 - val_loss: 1.0379 - val_accuracy: 0.6247\n",
      "Epoch 92/100\n",
      "226/226 [==============================] - 465s 2s/step - loss: 0.8216 - accuracy: 0.6978 - val_loss: 1.0241 - val_accuracy: 0.6275\n",
      "Epoch 93/100\n",
      "226/226 [==============================] - 471s 2s/step - loss: 0.8188 - accuracy: 0.6991 - val_loss: 1.0248 - val_accuracy: 0.6257\n",
      "Epoch 94/100\n",
      "226/226 [==============================] - 462s 2s/step - loss: 0.8116 - accuracy: 0.7020 - val_loss: 1.0261 - val_accuracy: 0.6309\n",
      "Epoch 95/100\n",
      "226/226 [==============================] - 464s 2s/step - loss: 0.8017 - accuracy: 0.7066 - val_loss: 1.0481 - val_accuracy: 0.6187\n",
      "Epoch 96/100\n",
      "226/226 [==============================] - 471s 2s/step - loss: 0.8057 - accuracy: 0.7078 - val_loss: 1.0293 - val_accuracy: 0.6262\n",
      "Epoch 97/100\n",
      "226/226 [==============================] - 463s 2s/step - loss: 0.8094 - accuracy: 0.7062 - val_loss: 1.0233 - val_accuracy: 0.6305\n",
      "Epoch 98/100\n",
      "226/226 [==============================] - 463s 2s/step - loss: 0.8005 - accuracy: 0.7093 - val_loss: 1.0134 - val_accuracy: 0.6333\n",
      "Epoch 99/100\n",
      "226/226 [==============================] - 463s 2s/step - loss: 0.7911 - accuracy: 0.7125 - val_loss: 1.0315 - val_accuracy: 0.6214\n",
      "Epoch 100/100\n",
      "226/226 [==============================] - 463s 2s/step - loss: 0.7824 - accuracy: 0.7145 - val_loss: 1.0332 - val_accuracy: 0.6241\n"
     ]
    },
    {
     "data": {
      "text/plain": [
       "<keras.src.callbacks.History at 0x2ab4b3b2950>"
      ]
     },
     "execution_count": 57,
     "metadata": {},
     "output_type": "execute_result"
    }
   ],
   "source": [
    "model.fit(x=x_train, y=y_train, batch_size = 128, epochs = 100, validation_data = (x_test,y_test))"
   ]
  },
  {
   "cell_type": "code",
   "execution_count": 58,
   "id": "c9ef72f5",
   "metadata": {},
   "outputs": [
    {
     "name": "stderr",
     "output_type": "stream",
     "text": [
      "C:\\anaconda3\\Lib\\site-packages\\keras\\src\\engine\\training.py:3103: UserWarning: You are saving your model as an HDF5 file via `model.save()`. This file format is considered legacy. We recommend using instead the native Keras format, e.g. `model.save('my_model.keras')`.\n",
      "  saving_api.save_model(\n"
     ]
    }
   ],
   "source": [
    "model_json = model.to_json()\n",
    "with open(\"emotiondetector.json\",'w') as json_file:\n",
    "    json_file.write(model_json)\n",
    "model.save(\"emotiondetector.h5\")"
   ]
  },
  {
   "cell_type": "code",
   "execution_count": 59,
   "id": "af5acb54",
   "metadata": {},
   "outputs": [],
   "source": [
    "from keras.models import model_from_json"
   ]
  },
  {
   "cell_type": "code",
   "execution_count": 77,
   "id": "b0241d04",
   "metadata": {},
   "outputs": [],
   "source": [
    "json_file = open(\"facialemotionmodel.json\", \"r\")\n",
    "model_json = json_file.read()\n",
    "json_file.close()\n",
    "model = model_from_json(model_json)\n",
    "model.load_weights(\"facialemotionmodel.h5\")"
   ]
  },
  {
   "cell_type": "code",
   "execution_count": 78,
   "id": "5f0cf049",
   "metadata": {},
   "outputs": [],
   "source": [
    "label = ['angry','disgust','fear','happy','neutral','sad','surprise']"
   ]
  },
  {
   "cell_type": "code",
   "execution_count": 79,
   "id": "52b59d1f",
   "metadata": {},
   "outputs": [],
   "source": [
    "def ef(image):\n",
    "    img = load_img(image,grayscale = True)\n",
    "    feature = np.array(img)\n",
    "    feature = feature.reshape(1,48,48,1)\n",
    "    return feature/255.0"
   ]
  },
  {
   "cell_type": "code",
   "execution_count": 80,
   "id": "187cbbf2",
   "metadata": {},
   "outputs": [
    {
     "name": "stdout",
     "output_type": "stream",
     "text": [
      "original image is of sad\n",
      "1/1 [==============================] - 0s 153ms/step\n",
      "model prediction is  sad\n"
     ]
    }
   ],
   "source": [
    "image = 'images/train/sad/42.jpg'\n",
    "print(\"original image is of sad\")\n",
    "img = ef(image)\n",
    "pred = model.predict(img)\n",
    "pred_label = label[pred.argmax()]\n",
    "print(\"model prediction is \",pred_label)"
   ]
  },
  {
   "cell_type": "code",
   "execution_count": 81,
   "id": "cad7e33b",
   "metadata": {},
   "outputs": [],
   "source": [
    "import matplotlib.pyplot as plt\n",
    "%matplotlib inline"
   ]
  },
  {
   "cell_type": "code",
   "execution_count": 82,
   "id": "e8bd173d",
   "metadata": {},
   "outputs": [
    {
     "name": "stdout",
     "output_type": "stream",
     "text": [
      "original image is of sad\n",
      "1/1 [==============================] - 0s 54ms/step\n",
      "model prediction is  sad\n"
     ]
    },
    {
     "data": {
      "text/plain": [
       "<matplotlib.image.AxesImage at 0x2ab76571590>"
      ]
     },
     "execution_count": 82,
     "metadata": {},
     "output_type": "execute_result"
    },
    {
     "data": {
      "image/png": "[encoded data removed]",
      "text/plain": [
       "<Figure size 640x480 with 1 Axes>"
      ]
     },
     "metadata": {},
     "output_type": "display_data"
    }
   ],
   "source": [
    "image = 'images/train/sad/42.jpg'\n",
    "print(\"original image is of sad\")\n",
    "img = ef(image)\n",
    "pred = model.predict(img)\n",
    "pred_label = label[pred.argmax()]\n",
    "print(\"model prediction is \",pred_label)\n",
    "plt.imshow(img.reshape(48,48),cmap='gray')"
   ]
  },
  {
   "cell_type": "code",
   "execution_count": null,
   "id": "155ea616",
   "metadata": {},
   "outputs": [],
   "source": []
  }
 ],
 "metadata": {
  "kernelspec": {
   "display_name": "Python 3 (ipykernel)",
   "language": "python",
   "name": "python3"
  },
  "language_info": {
   "codemirror_mode": {
    "name": "ipython",
    "version": 3
   },
   "file_extension": ".py",
   "mimetype": "text/x-python",
   "name": "python",
   "nbconvert_exporter": "python",
   "pygments_lexer": "ipython3",
   "version": "3.11.5"
  }
 },
 "nbformat": 4,
 "nbformat_minor": 5
}
